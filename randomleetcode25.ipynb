{
 "cells": [
  {
   "cell_type": "markdown",
   "id": "2f1874ec",
   "metadata": {},
   "source": [
    "# 1742. Maximum Number of Balls in a Box\n"
   ]
  },
  {
   "cell_type": "markdown",
   "id": "bf4e004d",
   "metadata": {},
   "source": [
    "You are working in a ball factory where you have n balls numbered from lowLimit up to highLimit inclusive (i.e., n == highLimit - lowLimit + 1), and an infinite number of boxes numbered from 1 to infinity.\n",
    "\n",
    "Your job at this factory is to put each ball in the box with a number equal to the sum of digits of the ball's number. For example, the ball number 321 will be put in the box number 3 + 2 + 1 = 6 and the ball number 10 will be put in the box number 1 + 0 = 1.\n",
    "\n",
    "Given two integers lowLimit and highLimit, return the number of balls in the box with the most balls."
   ]
  },
  {
   "cell_type": "code",
   "execution_count": 1,
   "id": "7fbc62c9",
   "metadata": {},
   "outputs": [
    {
     "data": {
      "text/plain": [
       "2"
      ]
     },
     "execution_count": 1,
     "metadata": {},
     "output_type": "execute_result"
    }
   ],
   "source": [
    "def countBalls(lowLimit, highLimit):\n",
    "    box_counts = {}  # Dictionary to store the count of balls in each box\n",
    "\n",
    "    for ball_num in range(lowLimit, highLimit + 1):\n",
    "        box_num = sum(int(digit) for digit in str(ball_num))\n",
    "        box_counts[box_num] = box_counts.get(box_num, 0) + 1\n",
    "\n",
    "    return max(box_counts.values())\n",
    "\n",
    "countBalls(1,10)"
   ]
  },
  {
   "cell_type": "code",
   "execution_count": 7,
   "id": "373e49db",
   "metadata": {},
   "outputs": [
    {
     "name": "stdout",
     "output_type": "stream",
     "text": [
      "2\n"
     ]
    }
   ],
   "source": [
    "#2\n",
    "import collections\n",
    "class Solution:\n",
    "    def countBalls(self, lowLimit: int, highLimit: int):\n",
    "        # initialize a Counter object to store count of each ball \n",
    "        counts = collections.Counter()\n",
    "        # define a helper function to count the sum of digits in a number\n",
    "        def count(x):\n",
    "            total = 0\n",
    "            while x > 0:\n",
    "                total += x % 10\n",
    "                x //= 10\n",
    "            return total\n",
    "        # count the balls in each box and update the Counter object\n",
    "        for x in range(lowLimit, highLimit+1):\n",
    "            counts[count(x)] += 1\n",
    "        # return the maximum frequency among all ball counts\n",
    "        return max(counts.values())\n",
    "a=Solution()\n",
    "print(a.countBalls(lowLimit = 1, highLimit = 10))"
   ]
  },
  {
   "cell_type": "markdown",
   "id": "981bb4d6",
   "metadata": {},
   "source": [
    "# 1929. Concatenation of Array\n"
   ]
  },
  {
   "cell_type": "markdown",
   "id": "8910b056",
   "metadata": {},
   "source": [
    "Given an integer array nums of length n, you want to create an array ans of length 2n where ans[i] == nums[i] and ans[i + n] == nums[i] for 0 <= i < n (0-indexed).\n",
    "\n",
    "Specifically, ans is the concatenation of two nums arrays.\n",
    "\n",
    "Return the array ans."
   ]
  },
  {
   "cell_type": "code",
   "execution_count": 10,
   "id": "dab48af3",
   "metadata": {},
   "outputs": [
    {
     "name": "stdout",
     "output_type": "stream",
     "text": [
      "[1, 2, 1, 1, 2, 1]\n"
     ]
    }
   ],
   "source": [
    "class Solution:\n",
    "    def ConcadinationOfArry(self,nums:list[int]):\n",
    "        ans=[]\n",
    "        for i in range(2):\n",
    "            for n in nums:\n",
    "                ans.append(n)\n",
    "        return ans\n",
    "s=Solution()\n",
    "print(s.ConcadinationOfArry(nums = [1,2,1]))"
   ]
  },
  {
   "cell_type": "markdown",
   "id": "a5a2b6e4",
   "metadata": {},
   "source": [
    "# 762. Prime Number of Set Bits in Binary Representation\n",
    " "
   ]
  },
  {
   "cell_type": "markdown",
   "id": "94b438a0",
   "metadata": {},
   "source": [
    "Given two integers left and right, return the count of numbers in the inclusive range [left, right] having a prime number of set bits in their binary representation.\n",
    "\n",
    "Recall that the number of set bits an integer has is the number of 1's present when written in binary.\n",
    "\n",
    "For example, 21 written in binary is 10101, which has 3 set bits."
   ]
  },
  {
   "cell_type": "code",
   "execution_count": 2,
   "id": "0a735059",
   "metadata": {},
   "outputs": [],
   "source": [
    "class Solution:\n",
    "    def countPrimeSetBits(self, left: int, right: int):\n",
    "           \n",
    "        #check no. is prime or not\n",
    "        \n",
    "        def isPrime(n:int):\n",
    "            count=0\n",
    "            for i in range(1,n+1):\n",
    "                if n%i==0:\n",
    "                    count+=1\n",
    "            if count==2:\n",
    "                return True\n",
    "            else:\n",
    "                return False\n",
    "     #take a loop for count integer between left and right and stored in \"ans\"\n",
    "        countp=0\n",
    "        for i in range(left,right+1):\n",
    "            ans=bin(i).count(\"1\")\n",
    "#isPrime call for if number is prime and that loop return true then countp varriable incrimented and last take o/p\n",
    "            if isPrime(ans):\n",
    "                countp+=1\n",
    "        return countp"
   ]
  },
  {
   "cell_type": "markdown",
   "id": "040d436e",
   "metadata": {},
   "source": [
    "# 1470. Shuffle the Array\n"
   ]
  },
  {
   "cell_type": "markdown",
   "id": "b9d87838",
   "metadata": {},
   "source": [
    "Given the array nums consisting of 2n elements in the form [x1,x2,...,xn,y1,y2,...,yn].\n",
    "\n",
    "Return the array in the form [x1,y1,x2,y2,...,xn,yn]."
   ]
  },
  {
   "cell_type": "code",
   "execution_count": 3,
   "id": "21027054",
   "metadata": {},
   "outputs": [
    {
     "data": {
      "text/plain": [
       "[1, 3, 2, 4]"
      ]
     },
     "execution_count": 3,
     "metadata": {},
     "output_type": "execute_result"
    }
   ],
   "source": [
    "def shuffle(nums, n):\n",
    "# here nums are the list input which has a serial sequence and n is the range of elements in list\n",
    "# at first we take an empty array list to append the processed values\n",
    "    shuffled = []\n",
    "# here let take the number in the list in the range of n value\n",
    "    for i in range(n):\n",
    "#her we take firt append a normal value and next appen the number  in the list and added the value given in n with in range of list\n",
    "        shuffled.append(nums[i])\n",
    "        shuffled.append(nums[i +n])\n",
    "    return shuffled\n",
    "\n",
    "nums = [1,2,3,4,5,6]\n",
    "n=2\n",
    "\n",
    "shuffle(nums, n)"
   ]
  },
  {
   "cell_type": "markdown",
   "id": "f908217a",
   "metadata": {},
   "source": [
    "# 509. Fibonacci Number\n"
   ]
  },
  {
   "cell_type": "markdown",
   "id": "8e3cf11d",
   "metadata": {},
   "source": [
    "The Fibonacci numbers, commonly denoted F(n) form a sequence, called the Fibonacci sequence, such that each number is the sum of the two preceding ones, starting from 0 and 1. That is,\n",
    "\n",
    "F(0) = 0, F(1) = 1\n",
    "F(n) = F(n - 1) + F(n - 2), for n > 1.\n",
    "Given n, calculate F(n).\n",
    "\n",
    " "
   ]
  },
  {
   "cell_type": "code",
   "execution_count": 5,
   "id": "e1eb59ab",
   "metadata": {},
   "outputs": [
    {
     "name": "stdout",
     "output_type": "stream",
     "text": [
      "1\n"
     ]
    }
   ],
   "source": [
    "class Solution:\n",
    "    def fib(self, n: int):\n",
    "        if (n<2):\n",
    "            return n\n",
    "        a,b=0,1\n",
    "        for i in range(1,n):\n",
    "            a,b=b,a + b\n",
    "        return b\n",
    "s=Solution()\n",
    "print(s.fib(n =1))"
   ]
  },
  {
   "cell_type": "markdown",
   "id": "e51c1dab",
   "metadata": {},
   "source": [
    "# 2235. Add Two Integers\n"
   ]
  },
  {
   "cell_type": "markdown",
   "id": "55274888",
   "metadata": {},
   "source": [
    "Given two integers num1 and num2, return the sum of the two integers."
   ]
  },
  {
   "cell_type": "code",
   "execution_count": 7,
   "id": "3603edfb",
   "metadata": {},
   "outputs": [
    {
     "data": {
      "text/plain": [
       "8"
      ]
     },
     "execution_count": 7,
     "metadata": {},
     "output_type": "execute_result"
    }
   ],
   "source": [
    "class Solution:\n",
    "    def sum(self, num1: int, num2: int):\n",
    "        c=num1+num2\n",
    "        return c\n",
    "a=Solution()\n",
    "a.sum(4,4)"
   ]
  },
  {
   "cell_type": "markdown",
   "id": "7c58849c",
   "metadata": {},
   "source": [
    "# 1603. Design Parking System"
   ]
  },
  {
   "cell_type": "markdown",
   "id": "da973d9c",
   "metadata": {},
   "source": [
    "Design a parking system for a parking lot. The parking lot has three kinds of parking spaces: big, medium, and small, with a fixed number of slots for each size.\n",
    "\n",
    "Implement the ParkingSystem class:\n",
    "\n",
    "ParkingSystem(int big, int medium, int small) Initializes object of the ParkingSystem class. The number of slots for each parking space are given as part of the constructor.\n",
    "bool addCar(int carType) Checks whether there is a parking space of carType for the car that wants to get into the parking lot. carType can be of three kinds: big, medium, or small, which are represented by 1, 2, and 3 respectively. A car can only park in a parking space of its carType. If there is no space available, return false, else park the car in that size space and return true.\n",
    " "
   ]
  },
  {
   "cell_type": "code",
   "execution_count": 17,
   "id": "d141f771",
   "metadata": {},
   "outputs": [
    {
     "name": "stdout",
     "output_type": "stream",
     "text": [
      "True\n",
      "True\n",
      "False\n",
      "False\n"
     ]
    }
   ],
   "source": [
    "class ParkingSystem:\n",
    "    def __init__(self,big:int,medium:int,small:int):\n",
    "        self.ParkingSystem={'big':big,'medium':medium,'small':small}\n",
    "\n",
    "    def addCar(self,carType:int)->bool:\n",
    "        mapping = {1: \"big\",2:\"medium\",3: \"small\"}\n",
    "        \n",
    "        if self.ParkingSystem[mapping[carType]]!=0:\n",
    "            self.ParkingSystem[mapping[carType]]-=1\n",
    "            return True\n",
    "        return False\n",
    "p=ParkingSystem(1,1,0)\n",
    "print(p.addCar(1))\n",
    "print(p.addCar(2)) \n",
    "print(p.addCar(3))\n",
    "print(p.addCar(1))"
   ]
  },
  {
   "cell_type": "markdown",
   "id": "8a778a65",
   "metadata": {},
   "source": [
    "# 1025. Divisor Game\n"
   ]
  },
  {
   "cell_type": "markdown",
   "id": "d956c7c3",
   "metadata": {},
   "source": [
    "Alice and Bob take turns playing a game, with Alice starting first.\n",
    "\n",
    "Initially, there is a number n on the chalkboard. On each player's turn, that player makes a move consisting of:\n",
    "\n",
    "Choosing any x with 0 < x < n and n % x == 0.\n",
    "Replacing the number n on the chalkboard with n - x.\n",
    "Also, if a player cannot make a move, they lose the game.\n",
    "\n",
    "Return true if and only if Alice wins the game, assuming both players play optimally.\n",
    "\n",
    " "
   ]
  },
  {
   "cell_type": "code",
   "execution_count": 18,
   "id": "54a370db",
   "metadata": {},
   "outputs": [
    {
     "data": {
      "text/plain": [
       "True"
      ]
     },
     "execution_count": 18,
     "metadata": {},
     "output_type": "execute_result"
    }
   ],
   "source": [
    "class Solution:\n",
    "    def divisorGame(self, n: int):\n",
    "        if n%2==0:\n",
    "            return True\n",
    "        else:\n",
    "            return False\n",
    "s=Solution()\n",
    "s.divisorGame(2)"
   ]
  },
  {
   "cell_type": "markdown",
   "id": "a94a0fe6",
   "metadata": {},
   "source": [
    "# 1678. Goal Parser Interpretation"
   ]
  },
  {
   "cell_type": "markdown",
   "id": "0d1011dc",
   "metadata": {},
   "source": [
    "You own a Goal Parser that can interpret a string command. The command consists of an alphabet of \"G\", \"()\" and/or \"(al)\" in some order. The Goal Parser will interpret \"G\" as the string \"G\", \"()\" as the string \"o\", and \"(al)\" as the string \"al\". The interpreted strings are then concatenated in the original order.\n",
    "\n",
    "Given the string command, return the Goal Parser's interpretation of command."
   ]
  },
  {
   "cell_type": "code",
   "execution_count": 20,
   "id": "e0fb7697",
   "metadata": {},
   "outputs": [
    {
     "data": {
      "text/plain": [
       "'Goal'"
      ]
     },
     "execution_count": 20,
     "metadata": {},
     "output_type": "execute_result"
    }
   ],
   "source": [
    "def foo(a):\n",
    "    command= a.replace(\"()\", \"o\").replace(\"(al)\", \"al\")\n",
    "    return command\n",
    "foo(\"G()(al)\")"
   ]
  },
  {
   "cell_type": "code",
   "execution_count": 21,
   "id": "6edf7ebc",
   "metadata": {},
   "outputs": [
    {
     "data": {
      "text/plain": [
       "'Gooooal'"
      ]
     },
     "execution_count": 21,
     "metadata": {},
     "output_type": "execute_result"
    }
   ],
   "source": [
    "foo(\"G()()()()(al)\")"
   ]
  },
  {
   "cell_type": "markdown",
   "id": "5f78565f",
   "metadata": {},
   "source": [
    "# 1374. Generate a String With Characters That Have Odd Counts\n"
   ]
  },
  {
   "cell_type": "markdown",
   "id": "da7a10f6",
   "metadata": {},
   "source": [
    "Given an integer n, return a string with n characters such that each character in such string occurs an odd number of times.\n",
    "\n",
    "The returned string must contain only lowercase English letters. If there are multiples valid strings, return any of them.  "
   ]
  },
  {
   "cell_type": "code",
   "execution_count": 22,
   "id": "51839e6a",
   "metadata": {},
   "outputs": [
    {
     "data": {
      "text/plain": [
       "'aaab'"
      ]
     },
     "execution_count": 22,
     "metadata": {},
     "output_type": "execute_result"
    }
   ],
   "source": [
    "def generateString(n):\n",
    "    if n % 2 == 0:\n",
    "        return 'a' * (n-1) + 'b'\n",
    "    else:\n",
    "        return 'a' * n\n",
    "generateString(4)"
   ]
  },
  {
   "cell_type": "markdown",
   "id": "50b63c53",
   "metadata": {},
   "source": [
    "# 1313. Decompress Run-Length Encoded List"
   ]
  },
  {
   "cell_type": "markdown",
   "id": "dbd1733e",
   "metadata": {},
   "source": [
    "We are given a list nums of integers representing a list compressed with run-length encoding.\n",
    "\n",
    "Consider each adjacent pair of elements [freq, val] = [nums[2*i], nums[2*i+1]] (with i >= 0).  For each such pair, there are freq elements with value val concatenated in a sublist. Concatenate all the sublists from left to right to generate the decompressed list.\n",
    "\n",
    "Return the decompressed list."
   ]
  },
  {
   "cell_type": "code",
   "execution_count": 23,
   "id": "d064bdcc",
   "metadata": {},
   "outputs": [
    {
     "name": "stdout",
     "output_type": "stream",
     "text": [
      "[2, 4, 4, 4] [1, 3, 3]\n"
     ]
    }
   ],
   "source": [
    "def decom(n):\n",
    "    x=[]\n",
    "    for i in range(0,len(n),2):\n",
    "        x=x+[n[i+1]]*n[i]\n",
    "    return x\n",
    "m=decom([1,2,3,4])\n",
    "p=decom([1,1,2,3])\n",
    "print(m,p)"
   ]
  },
  {
   "cell_type": "markdown",
   "id": "9f1f6815",
   "metadata": {},
   "source": [
    "# Sum Multiples\n"
   ]
  },
  {
   "cell_type": "markdown",
   "id": "bd4624f0",
   "metadata": {},
   "source": [
    "Given a positive integer n, find the sum of all integers in the range [1, n] inclusive that are divisible by 3, 5, or 7.\n",
    "\n",
    "Return an integer denoting the sum of all numbers in the given range satisfying the constraint.\n",
    "\n",
    " "
   ]
  },
  {
   "cell_type": "code",
   "execution_count": 26,
   "id": "4903dcfb",
   "metadata": {},
   "outputs": [
    {
     "data": {
      "text/plain": [
       "21"
      ]
     },
     "execution_count": 26,
     "metadata": {},
     "output_type": "execute_result"
    }
   ],
   "source": [
    "def sumDivisibles_2652(a,n):\n",
    "    sum=0\n",
    "    for num in range(a,n+1):\n",
    "        if num%3==0 or num%5==0 or num%7==0:\n",
    "            sum+=num\n",
    "    return sum\n",
    "\n",
    "sumDivisibles_2652(1,7)"
   ]
  },
  {
   "cell_type": "markdown",
   "id": "734fdb89",
   "metadata": {},
   "source": [
    "# 1656.Design an Ordered Stream\n"
   ]
  },
  {
   "cell_type": "markdown",
   "id": "10f97556",
   "metadata": {},
   "source": [
    "There is a stream of n (idKey, value) pairs arriving in an arbitrary order, where idKey is an integer between 1 and n and value is a string. No two pairs have the same id.\n",
    "\n",
    "Design a stream that returns the values in increasing order of their IDs by returning a chunk (list) of values after each insertion. The concatenation of all the chunks should result in a list of the sorted values.\n",
    "\n",
    "Implement the OrderedStream class:\n",
    "\n",
    "OrderedStream(int n) Constructs the stream to take n values.\n",
    "String[] insert(int idKey, String value) Inserts the pair (idKey, value) into the stream, then returns the largest possible chunk of currently inserted values that appear next in the order."
   ]
  },
  {
   "cell_type": "code",
   "execution_count": 1,
   "id": "b186dc4f",
   "metadata": {},
   "outputs": [
    {
     "name": "stdout",
     "output_type": "stream",
     "text": [
      "[]\n",
      "[['A']]\n",
      "[['B'], ['C']]\n",
      "[]\n",
      "[['D'], ['E']]\n"
     ]
    }
   ],
   "source": [
    "#1656\n",
    "class OrderedStream:\n",
    "    def __init__(self, n: int):\n",
    "        self.stream = [None] * n  # Initialize an array to store the values\n",
    "        self.ptr = 0  # Pointer to keep track of the next expected ID\n",
    "\n",
    "    def insert(self, idKey: int, value: str) :\n",
    "        value= list(value)\n",
    "        idKey -= 1  # Adjust the ID to match the array index\n",
    "        self.stream[idKey] = value  # Store the value in the array\n",
    "\n",
    "        if idKey == self.ptr:\n",
    "            # If the inserted ID is the next expected ID, find the largest possible chunk\n",
    "            chunk = []\n",
    "            while self.ptr < len(self.stream) and self.stream[self.ptr]:\n",
    "                chunk.append(self.stream[self.ptr])\n",
    "                self.ptr += 1\n",
    "            return chunk\n",
    "        else:\n",
    "            return []\n",
    "        \n",
    "stream = OrderedStream(5)\n",
    "print(stream.insert(3, \"C\"))  # Output: []\n",
    "print(stream.insert(1, \"A\"))  # Output: [\"A\"]\n",
    "print(stream.insert(2, \"B\"))  # Output: [\"B\", \"C\"]\n",
    "print(stream.insert(5, \"E\"))  # Output: []\n",
    "print(stream.insert(4, \"D\"))  # Output: [\"D\", \"E\"]"
   ]
  },
  {
   "cell_type": "code",
   "execution_count": null,
   "id": "d8a59203",
   "metadata": {},
   "outputs": [],
   "source": []
  },
  {
   "cell_type": "markdown",
   "id": "a5bc10d1",
   "metadata": {},
   "source": [
    "# 2418. Sort the People\n"
   ]
  },
  {
   "cell_type": "markdown",
   "id": "914d443b",
   "metadata": {},
   "source": [
    "You are given an array of strings names, and an array heights that consists of distinct positive integers. Both arrays are of length n.\n",
    "\n",
    "For each index i, names[i] and heights[i] denote the name and height of the ith person.\n",
    "\n",
    "Return names sorted in descending order by the people's heights."
   ]
  },
  {
   "cell_type": "code",
   "execution_count": 27,
   "id": "a5c54e7d",
   "metadata": {},
   "outputs": [
    {
     "name": "stdout",
     "output_type": "stream",
     "text": [
      "['Mary', 'Emma', 'John']\n"
     ]
    }
   ],
   "source": [
    "names = [\"Mary\",\"John\",\"Emma\"]\n",
    "heights = [180,165,170]\n",
    "final_list=[]\n",
    "sorted_heights=sorted(heights,reverse=True)\n",
    "for i in sorted_heights:\n",
    "    pos=heights.index(i)\n",
    "    k=names[pos]\n",
    "    final_list.append(k)\n",
    "print(final_list)"
   ]
  },
  {
   "cell_type": "code",
   "execution_count": 28,
   "id": "0d71f8d5",
   "metadata": {},
   "outputs": [
    {
     "name": "stdout",
     "output_type": "stream",
     "text": [
      "['Bob', 'Alice', 'Bob']\n"
     ]
    }
   ],
   "source": [
    "#2\n",
    "names = [\"Alice\",\"Bob\",\"Bob\"]\n",
    "heights = [155,185,150]\n",
    "final_list=[]\n",
    "sorted_heights=sorted(heights,reverse=True)\n",
    "for i in sorted_heights:\n",
    "    pos=heights.index(i)\n",
    "    k=names[pos]\n",
    "    final_list.append(k)\n",
    "print(final_list)"
   ]
  },
  {
   "cell_type": "markdown",
   "id": "2ebd43cf",
   "metadata": {},
   "source": [
    "# 2194. Cells in a Range on an Excel Sheet\n"
   ]
  },
  {
   "cell_type": "markdown",
   "id": "83f46a22",
   "metadata": {},
   "source": [
    "A cell (r, c) of an excel sheet is represented as a string \"<col><row>\" where:\n",
    "\n",
    "<col> denotes the column number c of the cell. It is represented by alphabetical letters.\n",
    "For example, the 1st column is denoted by 'A', the 2nd by 'B', the 3rd by 'C', and so on.\n",
    "<row> is the row number r of the cell. The rth row is represented by the integer r.\n",
    "You are given a string s in the format \"<col1><row1>:<col2><row2>\", where <col1> represents the column c1, <row1> represents the row r1, <col2> represents the column c2, and <row2> represents the row r2, such that r1 <= r2 and c1 <= c2.\n",
    "\n",
    "Return the list of cells (x, y) such that r1 <= x <= r2 and c1 <= y <= c2. The cells should be represented as strings in the format mentioned above and be sorted in non-decreasing order first by columns and then by rows."
   ]
  },
  {
   "cell_type": "code",
   "execution_count": 2,
   "id": "b9ba7eae",
   "metadata": {},
   "outputs": [
    {
     "data": {
      "text/plain": [
       "['K1', 'K2', 'L1', 'L2']"
      ]
     },
     "execution_count": 2,
     "metadata": {},
     "output_type": "execute_result"
    }
   ],
   "source": [
    "#2194\n",
    "def cellRange(s):\n",
    "    colon_idx = s.index(':')\n",
    "    col1 = s[0]\n",
    "    col2 = s[colon_idx + 1]\n",
    "\n",
    "    row1 = int(s[1:colon_idx])\n",
    "    row2 = int(s[colon_idx + 2:])\n",
    "\n",
    "    cells = []\n",
    "    for col in range(ord(col1), ord(col2) + 1):\n",
    "        for row in range(row1, row2 + 1):\n",
    "            cell = chr(col) + str(row)\n",
    "            cells.append(cell)\n",
    "\n",
    "    return sorted(cells)\n",
    "\n",
    "cellRange(\"K1:L2\")"
   ]
  },
  {
   "cell_type": "code",
   "execution_count": null,
   "id": "0c886b46",
   "metadata": {},
   "outputs": [],
   "source": []
  },
  {
   "cell_type": "code",
   "execution_count": null,
   "id": "5b154669",
   "metadata": {},
   "outputs": [],
   "source": []
  },
  {
   "cell_type": "markdown",
   "id": "528ffc48",
   "metadata": {},
   "source": [
    "# 1859. Sorting the Sentence\n"
   ]
  },
  {
   "cell_type": "markdown",
   "id": "3195ea19",
   "metadata": {},
   "source": [
    "A sentence is a list of words that are separated by a single space with no leading or trailing spaces. Each word consists of lowercase and uppercase English letters.\n",
    "\n",
    "A sentence can be shuffled by appending the 1-indexed word position to each word then rearranging the words in the sentence.\n",
    "\n",
    "For example, the sentence \"This is a sentence\" can be shuffled as \"sentence4 a3 is2 This1\" or \"is2 sentence4 This1 a3\".\n",
    "Given a shuffled sentence s containing no more than 9 words, reconstruct and return the original sentence."
   ]
  },
  {
   "cell_type": "code",
   "execution_count": 30,
   "id": "ad93fd7a",
   "metadata": {},
   "outputs": [
    {
     "name": "stdout",
     "output_type": "stream",
     "text": [
      "This is a sentence\n"
     ]
    }
   ],
   "source": [
    "l=\"is2 sentence4 This1 a3\"\n",
    "s = l.split()\n",
    "n = len(s)\n",
    "res = [\"\"] * n\n",
    "        \n",
    "for i in s:\n",
    "    k= int(i[-1])\n",
    "    res[k - 1] = i[:-1]\n",
    "        \n",
    "l=\" \".join(res)\n",
    "print(l)  "
   ]
  },
  {
   "cell_type": "markdown",
   "id": "0db185cb",
   "metadata": {},
   "source": [
    "# 1021. Remove Outermost Parentheses\n"
   ]
  },
  {
   "cell_type": "markdown",
   "id": "d37b8948",
   "metadata": {},
   "source": [
    "A valid parentheses string is either empty \"\", \"(\" + A + \")\", or A + B, where A and B are valid parentheses strings, and + represents string concatenation.\n",
    "\n",
    "For example, \"\", \"()\", \"(())()\", and \"(()(()))\" are all valid parentheses strings.\n",
    "A valid parentheses string s is primitive if it is nonempty, and there does not exist a way to split it into s = A + B, with A and B nonempty valid parentheses strings.\n",
    "\n",
    "Given a valid parentheses string s, consider its primitive decomposition: s = P1 + P2 + ... + Pk, where Pi are primitive valid parentheses strings.\n",
    "\n",
    "Return s after removing the outermost parentheses of every primitive string in the primitive decomposition of s."
   ]
  },
  {
   "cell_type": "code",
   "execution_count": 1,
   "id": "ad8fa11e",
   "metadata": {},
   "outputs": [
    {
     "data": {
      "text/plain": [
       "'()()()'"
      ]
     },
     "execution_count": 1,
     "metadata": {},
     "output_type": "execute_result"
    }
   ],
   "source": [
    "def removeOuterParentheses(s):\n",
    "    result = []\n",
    "    bal = 0\n",
    "\n",
    "    for char in s:\n",
    "        if char == '(':\n",
    "            if bal > 0:\n",
    "                result.append(char)\n",
    "            bal += 1\n",
    "        elif char == ')':\n",
    "            bal -= 1\n",
    "            if bal > 0:\n",
    "                result.append(char)\n",
    "\n",
    "    return ''.join(result)\n",
    "\n",
    "removeOuterParentheses( \"(()())(())\")"
   ]
  },
  {
   "cell_type": "code",
   "execution_count": null,
   "id": "df630224",
   "metadata": {},
   "outputs": [],
   "source": []
  },
  {
   "cell_type": "code",
   "execution_count": null,
   "id": "d1fd63b0",
   "metadata": {},
   "outputs": [],
   "source": []
  },
  {
   "cell_type": "markdown",
   "id": "68ccb870",
   "metadata": {},
   "source": [
    "# 760. Find Anagram Mappings"
   ]
  },
  {
   "cell_type": "markdown",
   "id": "5fc9cfbf",
   "metadata": {},
   "source": [
    "Given two lists Aand B, and B is an anagram of A. B is an anagram of A means B is made by randomizing the order of the elements in A.\n",
    "\n",
    "We want to find an index mapping P, from A to B. A mapping P[i] = j means the ith element in A appears in B at index j.\n",
    "\n",
    "These lists A and B may contain duplicates. If there are multiple answers, output any of them.\n",
    "\n",
    "For example, given\n",
    "\n",
    "A = [12, 28, 46, 32, 50]\n",
    "B = [50, 12, 32, 46, 28]"
   ]
  },
  {
   "cell_type": "code",
   "execution_count": 31,
   "id": "1a96e5cd",
   "metadata": {},
   "outputs": [
    {
     "name": "stdout",
     "output_type": "stream",
     "text": [
      "[1, 4, 3, 2, 0]\n"
     ]
    }
   ],
   "source": [
    "def anagram_mappings(A, B):\n",
    "    index_map = {}\n",
    "    for i, num in enumerate(B):\n",
    "        index_map[num] = i\n",
    "\n",
    "    mapping = []\n",
    "    for num in A:\n",
    "        mapping.append(index_map[num])\n",
    "    return mapping\n",
    "\n",
    "A = [12, 28, 46, 32, 50]\n",
    "B = [50, 12, 32, 46, 28]\n",
    "print(anagram_mappings(A, B))"
   ]
  },
  {
   "cell_type": "markdown",
   "id": "7f14bb04",
   "metadata": {},
   "source": [
    "# 1688. Count of Matches in Tournament\n"
   ]
  },
  {
   "cell_type": "markdown",
   "id": "621f314c",
   "metadata": {},
   "source": [
    "You are given an integer n, the number of teams in a tournament that has strange rules:\n",
    "\n",
    "If the current number of teams is even, each team gets paired with another team. A total of n / 2 matches are played, and n / 2 teams advance to the next round.\n",
    "If the current number of teams is odd, one team randomly advances in the tournament, and the rest gets paired. A total of (n - 1) / 2 matches are played, and (n - 1) / 2 + 1 teams advance to the next round.\n",
    "Return the number of matches played in the tournament until a winner is decided."
   ]
  },
  {
   "cell_type": "code",
   "execution_count": 32,
   "id": "fb280054",
   "metadata": {},
   "outputs": [
    {
     "name": "stdout",
     "output_type": "stream",
     "text": [
      "13\n"
     ]
    }
   ],
   "source": [
    "def solve(n):\n",
    "    ans = 0\n",
    "    while n != 1:\n",
    "        f = n//2\n",
    "        remainder = n % 2\n",
    "        ans += f\n",
    "        n = f + remainder\n",
    "        \n",
    "    return ans\n",
    "\n",
    "n = 14\n",
    "print(solve(n))"
   ]
  },
  {
   "cell_type": "markdown",
   "id": "bdf262f2",
   "metadata": {},
   "source": [
    "# 2006. Count Number of Pairs With Absolute Difference K\n"
   ]
  },
  {
   "cell_type": "markdown",
   "id": "2f61ef3b",
   "metadata": {},
   "source": [
    "Given an integer array nums and an integer k, return the number of pairs (i, j) where i < j such that |nums[i] - nums[j]| == k.\n",
    "\n",
    "The value of |x| is defined as:\n",
    "\n",
    "x if x >= 0.\n",
    "-x if x < 0."
   ]
  },
  {
   "cell_type": "code",
   "execution_count": 33,
   "id": "6a9b1208",
   "metadata": {},
   "outputs": [
    {
     "name": "stdout",
     "output_type": "stream",
     "text": [
      "Count Number of pairs with given diff is  4\n"
     ]
    }
   ],
   "source": [
    "def countPairsWithDiffK(arr, n, k):\n",
    "    count = 0\n",
    "      \n",
    "    # Pick all elements one by one\n",
    "    for i in range(0, n):\n",
    "          \n",
    "        # See if there is a pair of this picked element\n",
    "        for j in range(i+1, n) :\n",
    "              \n",
    "            if arr[i] - arr[j] == k or arr[j] - arr[i] == k:\n",
    "                count += 1\n",
    "                  \n",
    "    return count\n",
    "  \n",
    "# Driver program\n",
    "arr = [1, 2, 2, 1]\n",
    "  \n",
    "n = len(arr)\n",
    "k = 1\n",
    "print (\"Count Number of pairs with given diff is \",countPairsWithDiffK(arr, n, k))"
   ]
  },
  {
   "cell_type": "code",
   "execution_count": 34,
   "id": "0428ae92",
   "metadata": {},
   "outputs": [
    {
     "name": "stdout",
     "output_type": "stream",
     "text": [
      "Count Number of pairs with given diff is  0\n"
     ]
    }
   ],
   "source": [
    "#2006\n",
    "def countPairsWithDiffK(arr, n, k):\n",
    "    count = 0\n",
    "      \n",
    "    # Pick all elements one by one\n",
    "    for i in range(0, n):\n",
    "          \n",
    "        # See if there is a pair of this picked element\n",
    "        for j in range(i+1, n) :\n",
    "              \n",
    "            if arr[i] - arr[j] == k or arr[j] - arr[i] == k:\n",
    "                count += 1\n",
    "                  \n",
    "    return count\n",
    "  \n",
    "# Driver program\n",
    "arr = [1, 3]\n",
    "  \n",
    "n = len(arr)\n",
    "k = 3\n",
    "print (\"Count Number of pairs with given diff is \",countPairsWithDiffK(arr, n, k))"
   ]
  },
  {
   "cell_type": "code",
   "execution_count": 35,
   "id": "3c26e4cc",
   "metadata": {},
   "outputs": [
    {
     "name": "stdout",
     "output_type": "stream",
     "text": [
      "Count Number of pairs with given diff is  3\n"
     ]
    }
   ],
   "source": [
    "#2006\n",
    "def countPairsWithDiffK(arr, n, k):\n",
    "    count = 0\n",
    "      \n",
    "    # Pick all elements one by one\n",
    "    for i in range(0, n):\n",
    "          \n",
    "        # See if there is a pair of this picked element\n",
    "        for j in range(i+1, n) :\n",
    "              \n",
    "            if arr[i] - arr[j] == k or arr[j] - arr[i] == k:\n",
    "                count += 1\n",
    "                  \n",
    "    return count\n",
    "  \n",
    "# Driver program\n",
    "arr = [3, 2, 1, 5, 4]\n",
    "  \n",
    "n = len(arr)\n",
    "k = 2\n",
    "print (\"Count Number of pairs with given diff is \",countPairsWithDiffK(arr, n, k))"
   ]
  },
  {
   "cell_type": "markdown",
   "id": "a4408b04",
   "metadata": {},
   "source": [
    "# 709. To Lower Case\n"
   ]
  },
  {
   "cell_type": "markdown",
   "id": "ced009f3",
   "metadata": {},
   "source": [
    "Given a string s, return the string after replacing every uppercase letter with the same lowercase letter."
   ]
  },
  {
   "cell_type": "code",
   "execution_count": 36,
   "id": "1fe8abdc",
   "metadata": {},
   "outputs": [
    {
     "name": "stdout",
     "output_type": "stream",
     "text": [
      "sai satyabrat\n"
     ]
    }
   ],
   "source": [
    "class Solution:\n",
    "    def toLowerCase(self, s: str):\n",
    "        return s.lower()\n",
    "s=Solution()\n",
    "print(s.toLowerCase('Sai Satyabrat'))"
   ]
  },
  {
   "cell_type": "markdown",
   "id": "46169947",
   "metadata": {},
   "source": [
    "# 2283. Check if Number Has Equal Digit Count and Digit Value\n"
   ]
  },
  {
   "cell_type": "markdown",
   "id": "cf936cf3",
   "metadata": {},
   "source": [
    "You are given a 0-indexed string num of length n consisting of digits.\n",
    "\n",
    "Return true if for every index i in the range 0 <= i < n, the digit i occurs num[i] times in num, otherwise return false."
   ]
  },
  {
   "cell_type": "code",
   "execution_count": 2,
   "id": "e2fa65c9",
   "metadata": {},
   "outputs": [
    {
     "data": {
      "text/plain": [
       "True"
      ]
     },
     "execution_count": 2,
     "metadata": {},
     "output_type": "execute_result"
    }
   ],
   "source": [
    "def isOccurrenceEqual(num):\n",
    "    n = len(num)\n",
    "\n",
    "    for i in range(n):\n",
    "        digit_count = num.count(str(i))\n",
    "        if digit_count != int(num[i]):\n",
    "            return False\n",
    "\n",
    "    return True\n",
    "isOccurrenceEqual('1210')"
   ]
  },
  {
   "cell_type": "code",
   "execution_count": null,
   "id": "ab77b160",
   "metadata": {},
   "outputs": [],
   "source": []
  },
  {
   "cell_type": "code",
   "execution_count": null,
   "id": "6dde6309",
   "metadata": {},
   "outputs": [],
   "source": []
  },
  {
   "cell_type": "markdown",
   "id": "9f8c069e",
   "metadata": {},
   "source": [
    "# 2315. Count Asterisks\n"
   ]
  },
  {
   "cell_type": "markdown",
   "id": "f84ba814",
   "metadata": {},
   "source": [
    "You are given a string s, where every two consecutive vertical bars '|' are grouped into a pair. In other words, the 1st and 2nd '|' make a pair, the 3rd and 4th '|' make a pair, and so forth.\n",
    "\n",
    "Return the number of '*' in s, excluding the '*' between each pair of '|'.\n",
    "\n",
    "Note that each '|' will belong to exactly one pair."
   ]
  },
  {
   "cell_type": "code",
   "execution_count": 3,
   "id": "d90cbfbb",
   "metadata": {},
   "outputs": [
    {
     "name": "stdout",
     "output_type": "stream",
     "text": [
      "2 0 5\n"
     ]
    }
   ],
   "source": [
    "def countasteriks(s):\n",
    "    res=''\n",
    "    j=s.split('|')\n",
    "    data=j[::2]\n",
    "    res=str(data)\n",
    "    return res.count('*')\n",
    "\n",
    "k=countasteriks(\"l|*e*et|c**o|*de|\")\n",
    "m=countasteriks(\"iamprogrammer\")\n",
    "t=countasteriks(\"yo|uar|e**|b|e***au|tifu|l\")\n",
    "print(k,m,t)    "
   ]
  },
  {
   "cell_type": "code",
   "execution_count": null,
   "id": "7aefb266",
   "metadata": {},
   "outputs": [],
   "source": []
  },
  {
   "cell_type": "code",
   "execution_count": null,
   "id": "70f7fcee",
   "metadata": {},
   "outputs": [],
   "source": []
  },
  {
   "cell_type": "markdown",
   "id": "84bcd997",
   "metadata": {},
   "source": [
    "# 1160. Find Words That Can Be Formed by Characters\n"
   ]
  },
  {
   "cell_type": "markdown",
   "id": "5909286f",
   "metadata": {},
   "source": [
    "You are given an array of strings words and a string chars.\n",
    "\n",
    "A string is good if it can be formed by characters from chars (each character can only be used once).\n",
    "\n",
    "Return the sum of lengths of all good strings in words."
   ]
  },
  {
   "cell_type": "code",
   "execution_count": 4,
   "id": "af76d4d6",
   "metadata": {},
   "outputs": [
    {
     "name": "stdout",
     "output_type": "stream",
     "text": [
      "6\n"
     ]
    }
   ],
   "source": [
    "words=[\"cat\",\"bt\",\"hat\",\"tree\"]\n",
    "chars='atach'\n",
    "\n",
    "result=0\n",
    "\n",
    "for i in words:\n",
    "    count=0\n",
    "    for j in i:\n",
    "        if (i.count(j)>chars.count(j)):\n",
    "            count=1\n",
    "            \n",
    "            \n",
    "    if count==0:\n",
    "        \n",
    "        result+=len(i)\n",
    "print(result)"
   ]
  },
  {
   "cell_type": "code",
   "execution_count": null,
   "id": "9c030145",
   "metadata": {},
   "outputs": [],
   "source": []
  },
  {
   "cell_type": "code",
   "execution_count": null,
   "id": "df69ba5b",
   "metadata": {},
   "outputs": [],
   "source": []
  },
  {
   "cell_type": "code",
   "execution_count": null,
   "id": "fbb3e015",
   "metadata": {},
   "outputs": [],
   "source": []
  }
 ],
 "metadata": {
  "kernelspec": {
   "display_name": "Python 3 (ipykernel)",
   "language": "python",
   "name": "python3"
  },
  "language_info": {
   "codemirror_mode": {
    "name": "ipython",
    "version": 3
   },
   "file_extension": ".py",
   "mimetype": "text/x-python",
   "name": "python",
   "nbconvert_exporter": "python",
   "pygments_lexer": "ipython3",
   "version": "3.10.9"
  }
 },
 "nbformat": 4,
 "nbformat_minor": 5
}
